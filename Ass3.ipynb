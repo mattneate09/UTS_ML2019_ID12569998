{
  "nbformat": 4,
  "nbformat_minor": 0,
  "metadata": {
    "colab": {
      "name": "Ass3.ipynb",
      "provenance": [],
      "include_colab_link": true
    },
    "kernelspec": {
      "name": "python3",
      "display_name": "Python 3"
    }
  },
  "cells": [
    {
      "cell_type": "markdown",
      "metadata": {
        "id": "view-in-github",
        "colab_type": "text"
      },
      "source": [
        "<a href=\"https://colab.research.google.com/github/mattneate09/UTS_ML2019_ID12569998/blob/master/Ass3.ipynb\" target=\"_parent\"><img src=\"https://colab.research.google.com/assets/colab-badge.svg\" alt=\"Open In Colab\"/></a>"
      ]
    },
    {
      "cell_type": "code",
      "metadata": {
        "id": "RtKbPciFD-O8",
        "colab_type": "code",
        "colab": {}
      },
      "source": [
        ""
      ],
      "execution_count": 0,
      "outputs": []
    },
    {
      "cell_type": "markdown",
      "metadata": {
        "id": "KN3ZX20HEQWm",
        "colab_type": "text"
      },
      "source": [
        "UTS 31005\n",
        "Machine learning assignment 3\n",
        "12569998 Matthew Neate\n",
        "Question 3:\n",
        "\n",
        "Introduction\n",
        "The ability to predict the success of memes has long been the goal of the somewhat popular subreddit r/memeeconomy. Individuals can invest memecoins a FIAT (Fictitious Imaginary Asset Type) to become the next “meme millionaire”.  A memecoin is as of the time of writing, only worth $0.000021 USD.  However, there is potentially large sums of money that could be made in creating an algorithm or algorithms that are capable of predicting meme success. This would come more so from the understanding of how and why memes become viral. Advertising through a meme format is already becoming popular online to varying degrees of success.  These are sometimes done using twitter. Usually these campaigns miss the mark by missing a crucial timing window. And as a result, when the campaigns finally come out, they’re executed in a way that makes the company seem out of touch and cringey. The creators of these campaigns also seem to regularly forget what makes the meme or message funny. That is not to say that meme marketing is never successful, rather that they are rare and require skill to pull off. This is where the value proposition of a meme predictor / creator comes in. \n",
        "\n",
        "\n",
        "What is the challenge? \n",
        "The construction of such a meme predictor/ creator would be rather challenging for several reasons. Memes are often jokes, and like jokes, Timing matters.  As such the predictor needs to constantly ahead of the bell curve on current events, politics, sports and even other memes. Repeating old memes is paramount to sin on the internet.  Creating a meme in tandem with a company for advertising purposes is additionally challenging, as the message would have to avoid some of these channels i.e. politics, as it is a quick way of isolating half of the audience.  Unless the company doesn’t mind bad publicity, then this option should not be utilized. Following on from this, the quickest way to spread on the internet is to cause controversy, ideally our predictor/creator algorithm will not engage on this path if not out of basic decency, then because it is likely to fail as a long term marketing strategy for any given company. Furthermore, a study found that “one can account for the often-reported long-tailed distributions of topic popularity and lifetime without having to assume exogenous factors such as intrinsic meme appeal, user influence, or external events”.( L. Weng, A. Flammini,A. Vespignani, & F. Menczera, 2012)  By simulating a social network, the researchers found that a portion of meme popularity is up to random chance as it propagates through the network. This popularity also accounts for the duration of topics remaining popular as random propagation allows the random meme to be seen by larger parts of the network and hence, propagated further.  This is challenging as popularity/retweets is the primary metric of success for a meme creator and it is also the target variable of a meme predictor. \n",
        "\n",
        "\n",
        "Possible Methods\n",
        "There are multiple methods that can be used to predict or improve the chances that a message will go viral. The complexity of such methods can vary greatly from simply posting during peak times to  constructing a message that take advantage of trending topics.\n",
        "One more complex method of predicting the virality of a twitter message or campaign would be to utilize the history of past messages and ad campaigns. Twitter generates an unbelievable amount of data daily, so the hard part is figuring out what data to use and keep in order to train a predictive model. A starting point would be looking into popular tweets based on obvious features. Such as number of likes, followers, tweet length, and the usage of hashtags and mentions. The target variable of a model would be the number of retweets. As retweets allow the message to be propagated throughout the network and create a wider impression upon the userbase. Diving a bit deeper we could also perform a sentiment and content analysis on the tweets to extract emotion and the topic of the tweet. From this, a binary predictor can be created to predict if a tweet will receive more retweets than a pre-determined threshold. This method was utilized back in 2013 and had high success for threshold levels of retweets below 1000. This was also only tested on a sample of 20,000 tweets, so obviously more testing is needed. However, interestingly the accuracy increases for higher thresholds. This indicates that the features become more descriptive of success for higher thresholds. The researchers created a Naïve Bayes model and a generalized linear model. They believe the linear model was more successful because such a model “does not assume conditional independence between the features”( Jenders, Maximilian & Kasneci, Gjergji & Naumann, Felix.  2013) and that the model learns independent weights for every feature. Improvements on this method could yield strong results in predicting a viral marketing campaign. \n",
        " \n",
        "Jenders, Maximilian & Kasneci, Gjergji & Naumann, Felix. (2013). Analyzing and predicting viral tweets. WWW 2013 Companion - Proceedings of the 22nd International Conference on World Wide Web. 657-664. 10.1145/2487788.2488017.\n",
        "\n",
        "\n",
        "\n",
        "Another, more novel method that has been used involves looking into the first 50 retweets of any given message to predict its virality. This study looked into the infectivity of messages to identify cascades of retweets. An important part of this study was that the simulations only resembled peer to peer interaction of users. Which for our purpose would only be the natural spread of our marketing message from user to user, and not the propagation of the message via hashtags. This study, therefore, has some strong limitations for our use case however it is quite novel and worth looking into. Essentially the study shows that the natural propagation of a message throughout a social network can be predicted by looking into how fast its first 50 shares or retweets are propagated throughout the network. The researchers created a series of models utilizing real and generated twitter data. They found that a community & infection-based model created the best prediction of a messages virality. There are many improvements that can be made to this study to suit our use case however it shows a novel and somewhat effective model for the natural propagation of information throughout a social network. \n",
        "\n",
        " \n",
        "RG (Random Guess) NM(Null Model) CB(Community Based) IB(Infectivity Based) C&I(Community & Infectivity)\n",
        "Article Source: Infectivity enhances prediction of viral cascades in Twitter\n",
        "Li W, Cranmer SJ, Zheng Z, Mucha PJ (2019) Infectivity enhances prediction of viral cascades in Twitter. PLOS ONE 14(4): e0214453. https://doi.org/10.1371/journal.pone.0214453\n",
        "\n",
        "\n",
        "\n",
        "\n",
        "\n",
        "\n",
        "Ethical and social consequences\n",
        "This kind of study is interesting from a social and communal lens.  In essence, we are trying to predict human nature. Which is conventionally unpredictable.   Social media allows for mass communication. Ideas and attention are the valuable commodities of the internet age. Predicting what will become popular on the internet will thus inherently become valuable. There are several potential moral issues with this kind of study. If we attempt to value success of internet campaigns as the number of impressions made on any given social network, then we become susceptible to the fact that outrage tends to attract attention disproportionately. Ad campaigns that are intentionally causing outrage will inevitably have to one up the previous outrageous campaigns, causing a potential positive feedback loop. This could arguably already be taking place and creating algorithm that creates the perfect amount of outrage to inflame a response in the form of a retweet, is not exactly good in any way conceivable. \n",
        "\n",
        "A more interesting moral issue with this kind of study emerges from looking at the opposite effect of our desired outcome. If we can predict the emergence of popular ideas and messages on a social network. Then we become equipped with better tools to suppress this flow of information. Social media is currently only maintained by a few dominant companies. If they were able to predict what accounts were posting information that they did not approve of, then suddenly, the slope to censorship becomes a lot slipperier. Political bias and censorship are already present in many countries, social networks are not exempt from this. There should be a moral obligation to prevent the few to supress the voices of the many. \n",
        "\n",
        "References\n",
        "Cooper, P. (2019). 28 Twitter Statistics All Marketers Should Know in 2019. [online] Hootsuite Social Media Management. Available at: https://blog.hootsuite.com/twitter-statistics/ [Accessed 21 Sep. 2019].\n",
        "Falk, E., Morelli, S., Welborn, B., Dambacher, K. and Lieberman, M. (2013). Creating Buzz: the neural correlates of effective message propagation. Psychological Science, 24(7), pp.1234-1242.\n",
        "Knibbs, K. (2013). Can science predict the next big meme?. [online] Digital Trends. Available at: https://www.digitaltrends.com/social-media/can-science-predict-the-next-big-meme/ [Accessed 4 Oct. 2019].\n",
        "Kursuncu, U., Gaur, M., Lokala, U., Thirunarayan, K., Sheth, A. and Arpinar, B. (n.d.). [online] Knoesis.org. Available at: http://www.knoesis.org/sites/default/files/predictive-analysis-twitter_new.pdf [Accessed 3 Oct. 2019].\n",
        "Leaders, T. and Leaders, T. (2014). Viral prediction: Step-by-step - IBM iX. [online] IBM iX. Available at: https://www.ibm.com/blogs/insights-on-business/ibmix/viral-prediction-step-by-step/ [Accessed 4 Oct. 2019].\n",
        "Li, W., Cranmer, S., Zheng, Z. and Mucha, P. (2019). Infectivity enhances prediction of viral cascades in Twitter. PLOS ONE, 14(4).\n",
        "Mckenna, P. (2012). Going viral on Twitter is a random act. [online] New Scientist. Available at: https://www.newscientist.com/article/dn21702-going-viral-on-twitter-is-a-random-act/ [Accessed 6 Oct. 2019].\n",
        "O’Neil, L. (2018). The Elusive Art of Going Viral on Twitter. [online] WSJ. Available at: https://www.wsj.com/articles/the-elusive-art-of-going-viral-on-twitter-1538074239 [Accessed 25 Sep. 2019].\n",
        "Pillay, S. (2014). Which Messages Go Viral and Which Ones Don’t. [online] Harvard Business Review. Available at: https://hbr.org/2014/04/which-messages-go-viral-and-which-ones-dont [Accessed 22 Sep. 2019].\n",
        "Schriefer, N. (2019). How to predict the success of your marketing campaign. [online] Medium. Available at: https://towardsdatascience.com/how-to-predict-the-success-of-your-marketing-campaign-579fbb153a97?gi=601644daaf58 [Accessed 23 Sep. 2019].\n",
        "Weng, L., Flammini, A., Vespignani, A. and Menczer, F. (2013). Competition among memes in a world with limited attention. Scientific Reports, 3(1).\n",
        "\n"
      ]
    }
  ]
}