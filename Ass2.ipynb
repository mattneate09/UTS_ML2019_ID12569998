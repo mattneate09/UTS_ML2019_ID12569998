{
  "nbformat": 4,
  "nbformat_minor": 0,
  "metadata": {
    "colab": {
      "name": "Ass2.ipynb",
      "provenance": [],
      "include_colab_link": true
    },
    "kernelspec": {
      "name": "python3",
      "display_name": "Python 3"
    }
  },
  "cells": [
    {
      "cell_type": "markdown",
      "metadata": {
        "id": "view-in-github",
        "colab_type": "text"
      },
      "source": [
        "<a href=\"https://colab.research.google.com/github/mattneate09/UTS_ML2019_ID12569998/blob/master/Ass2.ipynb\" target=\"_parent\"><img src=\"https://colab.research.google.com/assets/colab-badge.svg\" alt=\"Open In Colab\"/></a>"
      ]
    },
    {
      "cell_type": "code",
      "metadata": {
        "id": "wLlRAO_G9XR1",
        "colab_type": "code",
        "colab": {}
      },
      "source": [
        "# -*- coding: utf-8 -*-\n",
        "\"\"\"\n",
        "Created on Mon Sep 16 17:39:34 2019\n",
        "\n",
        "@author: Matt\n",
        "\"\"\"\n",
        "\n",
        "# 1.\tImports the necessary packages into the environment\n",
        "\n",
        "\n",
        "#%%\n",
        "import cv2\n",
        "import numpy as np\n",
        "import pandas as pd\n",
        "import matplotlib.pyplot as plt\n",
        "import os \n",
        "import random\n",
        "\n"
      ],
      "execution_count": 0,
      "outputs": []
    },
    {
      "cell_type": "code",
      "metadata": {
        "id": "aYil8iJCzsAm",
        "colab_type": "code",
        "colab": {}
      },
      "source": [
        "#%%\n",
        "\n",
        "#2.\tThe code creates two lists that contains individual file paths to each image in the dataset for both classes.\n",
        "\n",
        "Train_dir = \"D:\\\\UNICODE\\\\IDC\"\n",
        "\n",
        "Train_class0 = [\"D:\\\\UNICODE\\\\IDC\\\\class0\\\\{}\".format(i) for i in os.listdir(Train_dir+\"\\\\class0\")]\n",
        "Train_class1 = [\"D:\\\\UNICODE\\\\IDC\\\\class1\\\\{}\".format(i) for i in os.listdir(Train_dir+\"\\\\class1\")]\n",
        "\n",
        "\n"
      ],
      "execution_count": 0,
      "outputs": []
    },
    {
      "cell_type": "code",
      "metadata": {
        "id": "jpoaDsmU0FCG",
        "colab_type": "code",
        "colab": {}
      },
      "source": [
        "#%%\n",
        "\n",
        "#3.\tIt then randomly selects images from the entire dataset to create a subset of the data for training and testing.\n",
        "\n",
        "Train_imgs = Train_class1[:400]+ Train_class0[:400]  \n",
        "\n",
        "random.shuffle(Train_imgs)\n",
        "\n",
        "del Train_class1\n",
        "del Train_class0\n",
        "\n",
        "print(len(Train_imgs))\n",
        "\n"
      ],
      "execution_count": 0,
      "outputs": []
    },
    {
      "cell_type": "code",
      "metadata": {
        "id": "KXjFdMWVzyPf",
        "colab_type": "code",
        "colab": {}
      },
      "source": [
        "#%%\n",
        "\n",
        "#4.\tIt then shows three sample images\n",
        "\n",
        "x=1\n",
        "import matplotlib.image as mpimg\n",
        "for ima in Train_imgs[0:3]:\n",
        "    img = mpimg.imread(ima)\n",
        "    imgplot = plt.imshow(img)\n",
        "    plt.show() \n",
        "    ##print(x)\n",
        "    x=x+1\n"
      ],
      "execution_count": 0,
      "outputs": []
    },
    {
      "cell_type": "code",
      "metadata": {
        "id": "K934Mmfzz10H",
        "colab_type": "code",
        "colab": {}
      },
      "source": [
        "#%%\n",
        "\n",
        "#5.\tWe are resizing all the images to a 50 by 50-pixel size. (almost all images are 50x50, but the edges are cropped to different sizes) \n",
        "#we are also creating two lists. List X contains all the images and List Y contains the corresponding class for the images.\n",
        "\n",
        "nrows = 50\n",
        "ncolumns =50\n",
        "channels =1 \n",
        "\n",
        "def ImageProcessandRead(list_of_images):\n",
        "\n",
        "    X = []\n",
        "    y = []\n",
        "\n",
        "    for images in list_of_images:   \n",
        "        X.append(cv2.resize(cv2.imread(images,cv2.IMREAD_COLOR),(nrows,ncolumns), interpolation=cv2.INTER_CUBIC))  \n",
        "        if 'class1' in images:\n",
        "            y.append(1)\n",
        "        elif 'class0'in images:\n",
        "            y.append(0)  \n",
        "\n",
        "    return X,y\n",
        "\n",
        "X, y = ImageProcessandRead(Train_imgs)\n"
      ],
      "execution_count": 0,
      "outputs": []
    },
    {
      "cell_type": "code",
      "metadata": {
        "id": "JcfvWEKxz62S",
        "colab_type": "code",
        "colab": {}
      },
      "source": [
        "#%%\n",
        "\n",
        "#6.\tDeleting unnecessary variables\n",
        "\n",
        "del Train_imgs"
      ],
      "execution_count": 0,
      "outputs": []
    },
    {
      "cell_type": "code",
      "metadata": {
        "id": "3ExpqIye0ZJs",
        "colab_type": "code",
        "colab": {}
      },
      "source": [
        "#%%\n",
        "\n",
        "#7.\tCreating a table showing the class balance and the shape of the data to be used\n",
        "\n",
        "import seaborn as sns\n",
        "\n",
        "X= np.array(X)\n",
        "y = np.array(y)\n",
        "print(\"follwing two varibles\")\n",
        "print(X.shape)\n",
        "print(y.shape)\n",
        "sns.countplot(y)\n",
        "plt.title('Labels for Cardiomegaly and no Finding')\n",
        "\n",
        "print(\"shape of Training images is \",X.shape)\n",
        "print(\"shape of Labels is\",y.shape)\n"
      ],
      "execution_count": 0,
      "outputs": []
    },
    {
      "cell_type": "code",
      "metadata": {
        "id": "9KFna-TG0d97",
        "colab_type": "code",
        "colab": {}
      },
      "source": [
        "#%%\n",
        "\n",
        "#8.\tCreating a testing and training split on the data at 80/20\n",
        "\n",
        "from sklearn.model_selection import train_test_split\n",
        "X_train,X_val,y_train,y_val = train_test_split(X,y,test_size=0.20, random_state =2)\n",
        "\n",
        "del X\n",
        "del y "
      ],
      "execution_count": 0,
      "outputs": []
    },
    {
      "cell_type": "code",
      "metadata": {
        "id": "Z6_ADHqo0i6O",
        "colab_type": "code",
        "colab": {}
      },
      "source": [
        "#%%\n",
        "\n",
        "#9.\tDefining our model architecture and setting the batch size\n",
        "\n",
        "ntrain = len(X_train)\n",
        "nval = len(X_val)\n",
        "\n",
        "batch_size = 20\n",
        "from keras import layers\n",
        "from keras import models\n",
        "from keras import optimizers\n",
        "from keras.preprocessing.image import ImageDataGenerator\n",
        "from keras.preprocessing.image import img_to_array, load_img\n",
        "\n",
        "model = models.Sequential()\n",
        "model.add(layers.Conv2D(2,(3,3),activation = 'relu',input_shape=(50,50,3)))\n",
        "model.add(layers.MaxPooling2D((2,2)))\n",
        "model.add(layers.Conv2D(4,(3,3),activation='relu'))\n",
        "model.add(layers.MaxPooling2D((2,2)))\n",
        "model.add(layers.Conv2D(8,(3,3),activation='relu'))\n",
        "model.add(layers.Dropout(0.4))\n",
        "model.add(layers.Conv2D(16,(3,3),activation='relu'))\n",
        "model.add(layers.Dropout(0.2))\n",
        "model.add(layers.Conv2D(32,(3,3),activation='relu'))\n",
        "model.add(layers.MaxPooling2D((2,2)))\n",
        "model.add(layers.Dropout(0.2))\n",
        "model.add(layers.Flatten())\n",
        "model.add(layers.Dropout(0.2))\n",
        "model.add(layers.Dense(64,activation='relu'))\n",
        "model.add(layers.Dense(1,activation = 'sigmoid'))\n",
        "\n",
        "\n"
      ],
      "execution_count": 0,
      "outputs": []
    },
    {
      "cell_type": "code",
      "metadata": {
        "id": "-F_H3BJw0oMt",
        "colab_type": "code",
        "colab": {}
      },
      "source": [
        "#%%\n",
        "\n",
        "#10.\tThe model.Summary() function shows a schematic of the network and shows how many trainable parameters are present\n",
        "\n",
        "model.summary()\n",
        "\n",
        "\n"
      ],
      "execution_count": 0,
      "outputs": []
    },
    {
      "cell_type": "code",
      "metadata": {
        "id": "8C7kYO5J0uBm",
        "colab_type": "code",
        "colab": {}
      },
      "source": [
        "#11.\tSetting our learning rate, accuracy metrics and fitting our model to the data\n",
        "\n",
        "#%%\n",
        "model.compile(loss='binary_crossentropy', optimizer=optimizers.Adam(lr=0.0001), metrics=['acc'])\n",
        "\n",
        "train_datagen = ImageDataGenerator(rescale=1./200,rotation_range=40,width_shift_range=0.2,height_shift_range=0.2,shear_range=0.2,zoom_range=0.2,horizontal_flip=True,)\n",
        "\n",
        "val_datagen = ImageDataGenerator(rescale=1./200)\n",
        "\n",
        "train_generator = train_datagen.flow(X_train,y_train,batch_size=batch_size)\n",
        "val_generator = train_datagen.flow(X_val,y_val,batch_size=batch_size)\n",
        "\n",
        "history = model.fit_generator(train_generator,steps_per_epoch=ntrain // batch_size,epochs = 50,validation_data = val_generator, validation_steps = nval//batch_size)\n",
        "\n",
        "model.save_weights('model_weights.h5')\n",
        "model.save('model_keras.h5')"
      ],
      "execution_count": 0,
      "outputs": []
    },
    {
      "cell_type": "code",
      "metadata": {
        "id": "bTIGfRKQ0x2S",
        "colab_type": "code",
        "colab": {}
      },
      "source": [
        "#12.\tRecording the accuracies and loss’ of the network upon training\n",
        "#%%\n",
        "\n",
        "acc = history.history['acc']\n",
        "val_acc = history.history['val_acc']\n",
        "loss = history.history['loss']\n",
        "val_loss = history.history['val_loss']\n",
        "\n",
        "epochs = range(1,len(acc)+1)"
      ],
      "execution_count": 0,
      "outputs": []
    },
    {
      "cell_type": "code",
      "metadata": {
        "id": "33dNckJB02T-",
        "colab_type": "code",
        "colab": {}
      },
      "source": [
        "#%%\n",
        "\n",
        "#13.\tPlotting the accuracy and loss of the network as a function of epochs\n",
        "\n",
        "plt.clf()\n",
        "plt.plot(epochs,acc,'b',label = 'Training accuracy')\n",
        "plt.plot(epochs,val_acc,'r',label = 'Validation accuracy')\n",
        "plt.title('Training and Validation Accuracy')\n",
        "plt.legend()\n",
        "plt.show()\n",
        "\n",
        "plt.plot(epochs,loss,'g',label = 'Training loss')\n",
        "plt.plot(epochs,val_loss,'y',label = 'Validation loss')\n",
        "plt.title('Training and Validation loss')\n",
        "plt.legend()\n",
        "plt.show()\n",
        "\n"
      ],
      "execution_count": 0,
      "outputs": []
    }
  ]
}